{
 "cells": [
  {
   "cell_type": "code",
   "execution_count": 41,
   "metadata": {
    "collapsed": false
   },
   "outputs": [],
   "source": [
    "import pandas as pd\n",
    "from textblob import TextBlob\n",
    "from textblob import formats\n",
    "from textblob.sentiments import NaiveBayesAnalyzer\n",
    "import numpy as np\n",
    "ds = pd.read_excel(\"data/Tweets by anyone in area (1)(10).xlsx\", header = None)"
   ]
  },
  {
   "cell_type": "code",
   "execution_count": 42,
   "metadata": {
    "collapsed": false
   },
   "outputs": [
    {
     "data": {
      "text/html": [
       "<div>\n",
       "<table border=\"1\" class=\"dataframe\">\n",
       "  <thead>\n",
       "    <tr style=\"text-align: right;\">\n",
       "      <th></th>\n",
       "      <th>0</th>\n",
       "      <th>1</th>\n",
       "      <th>2</th>\n",
       "      <th>3</th>\n",
       "      <th>4</th>\n",
       "      <th>5</th>\n",
       "    </tr>\n",
       "  </thead>\n",
       "  <tbody>\n",
       "    <tr>\n",
       "      <th>0</th>\n",
       "      <td>May 12, 2015 at 03:10PM</td>\n",
       "      <td>@IjeLove_</td>\n",
       "      <td>IVERSON REALLY THE GOAT 😭😭😭😭 http://t.co/fJ7Vc...</td>\n",
       "      <td>http://twitter.com/IjeLove_/status/59820351130...</td>\n",
       "      <td>http://maps.google.com/maps/api/staticmap?cent...</td>\n",
       "      <td>https://maps.google.com/?q=40.00089817,-75.148...</td>\n",
       "    </tr>\n",
       "    <tr>\n",
       "      <th>1</th>\n",
       "      <td>May 12, 2015 at 03:10PM</td>\n",
       "      <td>@_Jus_Bitty</td>\n",
       "      <td>Can wait to get to Jamaica....hope @TheBoss_Re...</td>\n",
       "      <td>http://twitter.com/_Jus_Bitty/status/598203628...</td>\n",
       "      <td>http://maps.google.com/maps/api/staticmap?cent...</td>\n",
       "      <td>https://maps.google.com/?q=40.08135224,-75.142...</td>\n",
       "    </tr>\n",
       "    <tr>\n",
       "      <th>2</th>\n",
       "      <td>May 12, 2015 at 03:11PM</td>\n",
       "      <td>@juliagreenxx</td>\n",
       "      <td>happy birthday to a girl I'm not sure where I'...</td>\n",
       "      <td>http://twitter.com/juliagreenxx/status/5982037...</td>\n",
       "      <td>http://maps.google.com/maps/api/staticmap?cent...</td>\n",
       "      <td>https://maps.google.com/?q=39.95356649,-75.192...</td>\n",
       "    </tr>\n",
       "    <tr>\n",
       "      <th>3</th>\n",
       "      <td>May 12, 2015 at 03:18PM</td>\n",
       "      <td>@GSE_innovates</td>\n",
       "      <td>Next up: @sarahrottenberg on #designthinking i...</td>\n",
       "      <td>http://twitter.com/GSE_innovates/status/598205...</td>\n",
       "      <td>http://maps.google.com/maps/api/staticmap?cent...</td>\n",
       "      <td>https://maps.google.com/?q=39.950484,-75.19351...</td>\n",
       "    </tr>\n",
       "    <tr>\n",
       "      <th>4</th>\n",
       "      <td>May 12, 2015 at 03:18PM</td>\n",
       "      <td>@AmarahMiller</td>\n",
       "      <td>My time is precious have no time to waist ..</td>\n",
       "      <td>http://twitter.com/AmarahMiller/status/5982056...</td>\n",
       "      <td>http://maps.google.com/maps/api/staticmap?cent...</td>\n",
       "      <td>https://maps.google.com/?q=40.02844804,-75.205...</td>\n",
       "    </tr>\n",
       "  </tbody>\n",
       "</table>\n",
       "</div>"
      ],
      "text/plain": [
       "                         0               1  \\\n",
       "0  May 12, 2015 at 03:10PM       @IjeLove_   \n",
       "1  May 12, 2015 at 03:10PM     @_Jus_Bitty   \n",
       "2  May 12, 2015 at 03:11PM   @juliagreenxx   \n",
       "3  May 12, 2015 at 03:18PM  @GSE_innovates   \n",
       "4  May 12, 2015 at 03:18PM   @AmarahMiller   \n",
       "\n",
       "                                                   2  \\\n",
       "0  IVERSON REALLY THE GOAT 😭😭😭😭 http://t.co/fJ7Vc...   \n",
       "1  Can wait to get to Jamaica....hope @TheBoss_Re...   \n",
       "2  happy birthday to a girl I'm not sure where I'...   \n",
       "3  Next up: @sarahrottenberg on #designthinking i...   \n",
       "4       My time is precious have no time to waist ..   \n",
       "\n",
       "                                                   3  \\\n",
       "0  http://twitter.com/IjeLove_/status/59820351130...   \n",
       "1  http://twitter.com/_Jus_Bitty/status/598203628...   \n",
       "2  http://twitter.com/juliagreenxx/status/5982037...   \n",
       "3  http://twitter.com/GSE_innovates/status/598205...   \n",
       "4  http://twitter.com/AmarahMiller/status/5982056...   \n",
       "\n",
       "                                                   4  \\\n",
       "0  http://maps.google.com/maps/api/staticmap?cent...   \n",
       "1  http://maps.google.com/maps/api/staticmap?cent...   \n",
       "2  http://maps.google.com/maps/api/staticmap?cent...   \n",
       "3  http://maps.google.com/maps/api/staticmap?cent...   \n",
       "4  http://maps.google.com/maps/api/staticmap?cent...   \n",
       "\n",
       "                                                   5  \n",
       "0  https://maps.google.com/?q=40.00089817,-75.148...  \n",
       "1  https://maps.google.com/?q=40.08135224,-75.142...  \n",
       "2  https://maps.google.com/?q=39.95356649,-75.192...  \n",
       "3  https://maps.google.com/?q=39.950484,-75.19351...  \n",
       "4  https://maps.google.com/?q=40.02844804,-75.205...  "
      ]
     },
     "execution_count": 42,
     "metadata": {},
     "output_type": "execute_result"
    }
   ],
   "source": [
    "ds.head()"
   ]
  },
  {
   "cell_type": "code",
   "execution_count": 55,
   "metadata": {
    "collapsed": false
   },
   "outputs": [],
   "source": [
    "pol = np.zeros(len(ds)) \n",
    "blob = TextBlob(ds[2][0], analyzer=NaiveBayesAnalyzer())     \n",
    "\n",
    "#for i in range(0, len(ds)):     \n",
    "#    blob = TextBlob(ds[2][i], analyzer=NaiveBayesAnalyzer())     \n",
    "#    pol[i] = ( (blob.sentiment[1]-blob.sentiment[2]) ) \n"
   ]
  },
  {
   "cell_type": "code",
   "execution_count": 57,
   "metadata": {
    "collapsed": false
   },
   "outputs": [
    {
     "data": {
      "text/plain": [
       "0.5594128584482629"
      ]
     },
     "execution_count": 57,
     "metadata": {},
     "output_type": "execute_result"
    }
   ],
   "source": []
  },
  {
   "cell_type": "code",
   "execution_count": null,
   "metadata": {
    "collapsed": true
   },
   "outputs": [],
   "source": []
  },
  {
   "cell_type": "code",
   "execution_count": null,
   "metadata": {
    "collapsed": true
   },
   "outputs": [],
   "source": []
  }
 ],
 "metadata": {
  "kernelspec": {
   "display_name": "Python 3",
   "language": "python",
   "name": "python3"
  },
  "language_info": {
   "codemirror_mode": {
    "name": "ipython",
    "version": 3
   },
   "file_extension": ".py",
   "mimetype": "text/x-python",
   "name": "python",
   "nbconvert_exporter": "python",
   "pygments_lexer": "ipython3",
   "version": "3.4.3"
  }
 },
 "nbformat": 4,
 "nbformat_minor": 0
}
